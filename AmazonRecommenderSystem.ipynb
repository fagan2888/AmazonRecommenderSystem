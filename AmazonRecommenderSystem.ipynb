{
 "cells": [
  {
   "cell_type": "markdown",
   "metadata": {},
   "source": [
    "# Amazon Recommender System\n",
    "\n",
    "## Objective:\n",
    "\n",
    "- Using the supplied dataset build a a simple recommendation engine that given a user ID ( userId ) returns a collection (list) of recommended movies. \n",
    "- The recommendation engine can be written in any language (ruby, python, php, javascript, bash, etc) and built using any technology/framework but you are required to state why you chosen that language and the technology stack.\n",
    "- Bonus points who builds the solution integrated with a web interface. Please comment your code."
   ]
  },
  {
   "cell_type": "markdown",
   "metadata": {},
   "source": [
    "## Work Plan:\n",
    "\n",
    "1. Data Collection and Preparation:\n",
    "    - Analyse Data Format\n",
    "    - Descriptive Data Analysis\n",
    "    - Clean data if needed\n",
    "2. Model Selection and Training\n",
    "    - User based collaborative filtering\n",
    "    - Item based collaborative filtering\n",
    "    - Advanced methods: Matrix Factorization\n",
    "    - Method comparison\n",
    "3. Build custom app function for recommender system"
   ]
  },
  {
   "cell_type": "markdown",
   "metadata": {},
   "source": [
    "## 1) Data Collection and Preparation:"
   ]
  },
  {
   "cell_type": "markdown",
   "metadata": {},
   "source": [
    "## 2) Model Selection and Training:"
   ]
  },
  {
   "cell_type": "markdown",
   "metadata": {},
   "source": [
    "## 3) Build custom app funcion for recommender system:"
   ]
  },
  {
   "cell_type": "markdown",
   "metadata": {},
   "source": [
    "## Conclusion\n",
    "\n",
    "**Some interestings points worth mentioning:**"
   ]
  }
 ],
 "metadata": {
  "kernelspec": {
   "display_name": "Python [default]",
   "language": "python",
   "name": "python3"
  },
  "language_info": {
   "codemirror_mode": {
    "name": "ipython",
    "version": 3
   },
   "file_extension": ".py",
   "mimetype": "text/x-python",
   "name": "python",
   "nbconvert_exporter": "python",
   "pygments_lexer": "ipython3",
   "version": "3.6.0"
  }
 },
 "nbformat": 4,
 "nbformat_minor": 2
}
